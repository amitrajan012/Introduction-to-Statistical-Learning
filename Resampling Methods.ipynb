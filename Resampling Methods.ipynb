{
 "cells": [
  {
   "cell_type": "code",
   "execution_count": 1,
   "metadata": {},
   "outputs": [
    {
     "data": {
      "text/html": [
       "\n",
       "<style>\n",
       "div.text_cell_render { /* Customize text cells */\n",
       "font-family: 'Times New Roman';\n",
       "font-size:1.3em;\n",
       "line-height:1.4em;\n",
       "padding-left:1.5em;\n",
       "padding-right:1.5em;\n",
       "}\n",
       "</style>\n"
      ],
      "text/plain": [
       "<IPython.core.display.HTML object>"
      ]
     },
     "execution_count": 1,
     "metadata": {},
     "output_type": "execute_result"
    }
   ],
   "source": [
    "from IPython.core.display import HTML\n",
    "HTML(\"\"\"\n",
    "<style>\n",
    "div.text_cell_render { /* Customize text cells */\n",
    "font-family: 'Times New Roman';\n",
    "font-size:1.3em;\n",
    "line-height:1.4em;\n",
    "padding-left:1.5em;\n",
    "padding-right:1.5em;\n",
    "}\n",
    "</style>\n",
    "\"\"\")"
   ]
  },
  {
   "cell_type": "markdown",
   "metadata": {},
   "source": [
    "<h1><center>Resampling Methods</center></h1>"
   ]
  },
  {
   "cell_type": "markdown",
   "metadata": {},
   "source": [
    "<b>Resampling methods</b> involve repeatedly drawing samples from training data and refitting a model on them. Resampling approaches can be computationally expensive. <b>Cross-validation</b> and <b>bootstrap</b> are two of the most commonly used resampling methods. Cross-validation can be used to estimate the test error rate associated with a given model in order to evaluate its performance. The process of evaluating a model's performance is called <b>model assessment</b>. The process of selecting proper level of flexibility for a model is known as <b>model selection</b>."
   ]
  },
  {
   "cell_type": "markdown",
   "metadata": {},
   "source": [
    "### 5.1 Cross-Validation "
   ]
  },
  {
   "cell_type": "markdown",
   "metadata": {},
   "source": [
    "<b>Test error rate</b> can be easily calculated if a designated test set is available. This is usually not the case. One approach is to estimate the test error rate by <b>holding out</b> a subset of the training observation from the fitting process and then apply the model to the held out observations. "
   ]
  },
  {
   "cell_type": "markdown",
   "metadata": {},
   "source": [
    "#### 5.1.1 The Validation Set Approach "
   ]
  },
  {
   "cell_type": "markdown",
   "metadata": {},
   "source": [
    "The validation set approach involves dividing the available set of observations into two part: a <b>training set</b> and a <b>validation set</b>. The model is fit on the training set and the fitted model is used to compute the validation set error rate. Validation set approach is simple and easy to implement but it has two drawbacks:\n",
    "\n",
    " - Validation set error rate can be highly variable, depending on which observations are included in the training set and which in the validation set.\n",
    " \n",
    " \n",
    " - As only a subset of the observations is used to fit the model, the modle tends to perform worse. This suggests that the validation set error rate may tend to <b>overestimate</b> the test error rate for the model fitted on the entire data set."
   ]
  },
  {
   "cell_type": "markdown",
   "metadata": {},
   "source": [
    "#### 5.1.2 Leave-One-Out Cross-Validation "
   ]
  },
  {
   "cell_type": "markdown",
   "metadata": {},
   "source": [
    "<b>Leave-one-out cross-validation (LOOCV)</b> is closely related to the validation set approach. LOOCV also involves splitting the data set into two parts. Instead of creating two subsets of comaparable size, a <b>single observation</b> is used for the validation set and the remaining observations are used for the trainig set. The <b>MSE</b> of a single observation of the validation set can provide an unbiased estimate for the test error but it is <b>highly variable</b>.\n",
    "\n",
    "The LOOCV process can be repeated $n$ times, producing $n$ different MSEs, when each time validation set consists of $i$th observation, where value of $i$ ranges from $1$ to $n$. The MSE for validation sets is given as:\n",
    "\n",
    "$$MSE_{i} = (y_i - \\widehat{y_i})^2$$\n",
    "\n",
    "and the overall estimate of <b>test MSE</b> is the average of these $n$ validation errors:\n",
    "\n",
    "$$CV_{(n)} = \\frac{1}{n} \\sum_{i=1}^{n} MSE_{i}$$\n",
    "\n",
    "LOOCV has far <b>less bias</b> when compared to validation set approach. It does not tend to overestimate the test error rate as much as the validation set approach does. Performing LOOCV multiple times will always yield the same results as there is no randomness in the training/validation set split. LOOCV can be expensive to implement as the model has to be fitted n-times. LOOCV is a very generic approach and can be used with any kind of predictive modeling."
   ]
  },
  {
   "cell_type": "markdown",
   "metadata": {},
   "source": [
    "#### 5.1.3 k-Fold Cross-Validation "
   ]
  },
  {
   "cell_type": "markdown",
   "metadata": {},
   "source": [
    "<b>k-fold CV</b> is an alternative to LOOCV. In this aproach the observations are randomly divided into $k$ groups of approximately equal size. The first fold is treated as a validation set and the method is fit on the remaining $k-1$ folds. The $MSE_{1}$ is computed on the observations in the held-out fold. The process is repeated $k$ times. Each time a different group of observation is treated as the validation set. The $k$-fold CV estimate is given as:\n",
    "\n",
    "$$CV_{(k)} = \\frac{1}{k} \\sum_{i=1}^{k} MSE_{i}$$\n",
    "\n",
    "LOOCV is a special case of $k$-fold CV with $k=n$. Generally, a typical value of $K=5$ or $k=10$ is chosen. $k$-fold CV has an advantage of less computational complexity as model needs to be fitted $k$ times only. There may arise some variability in the CV estimates as there is some variability in the divison of the observations into the folds.\n",
    "\n",
    "Sometimes instead of arriving on a correct estimate of test MSE, we are more interested in selecting the model for which the test MSE will be minimum. Hence, for this purpose, the location of the minimum point in the estimated test MSE curve is more important, which can help in deciding the correct flecibility of the model. $k$-fold CV does a pretty decent job in this."
   ]
  },
  {
   "cell_type": "markdown",
   "metadata": {},
   "source": [
    "#### 5.1.4 Bias-Variance Trade-Off for k-Fold Cross-Validation"
   ]
  },
  {
   "cell_type": "markdown",
   "metadata": {},
   "source": [
    "Apart from computational advantage, $k$-fold CV gives more accurate estimates of the test error rate than LOOCV. Since LOOCV uses $n-1$ observations as training set, it will give approximately unbiased (low bias) estimates of the test error. Compared to validation set approach, $k$-fold CV has low bias as well. But from the prespective of <b>bias reduction</b>, LOOCV is to be preferred over $k$-fold CV.\n",
    "\n",
    "LOOCV has <b>higher variance</b> compared to $k$-fold CV for $k < n$. As we know that, <b>mean of highly correlated quantities has higher variance compared to the mean of quantities that are not highly correlated.</b> For the LOOCV, as the different models share higher amount of data compared to $k$-fold CV, they are somewhat more correlated. Hence, the test error estimate of LOOCV has <b>higher variance</b> compared to $k$-fold CV. $k$-fold CV with $k=5$ or $k=10$, yields test error estimates that suffer neither from excessively high bias, nor from very high variance.\n",
    "\n",
    "<b>Mean of highly correlated quantities have higher variance</b> as:\n",
    "\n",
    " - When the elements of each sample are positively correlated, when one value is high the others tend to be high, too. Their mean will then be high. When one value is low the others tend to be low, too. Their mean will then be low. Thus, the means tend either to be high or low.\n",
    " \n",
    " \n",
    " - When elements of each sample are not correlated, the amount by which some elements are high is often balanced (or \"canceled out\") by other low elements. Overall the mean tends to be very close to the average of the population from which the samples are drawn--and rarely much greater or much less than that."
   ]
  },
  {
   "cell_type": "markdown",
   "metadata": {},
   "source": [
    "#### 5.1.5 Cross-Validation on Classification Problems"
   ]
  },
  {
   "cell_type": "markdown",
   "metadata": {},
   "source": [
    "In the case of classification, cross-validation works in the same way. However, instead of using MSE to quantify the test error, we can use the number of misclassified observations. For example, in classification setting, the LOOCV error rate takes the form:\n",
    "\n",
    "$$CV_{n} = \\frac{1}{n} \\sum_{i=1}^{n} Err_i$$\n",
    "\n",
    "where $Err_i = I(y_i \\neq \\widehat{y_i})$. $k$-fold CV error rate and validation set error rate are defined similarly.\n",
    "\n",
    "In general <b>10-fold CV</b> error rate provides a good approximation to the test error rate (though it somewhat underestimates it). It reaches a minimum value for the correct flexibiliy of model."
   ]
  },
  {
   "cell_type": "markdown",
   "metadata": {},
   "source": [
    "### 5.2 The Bootstrap"
   ]
  },
  {
   "cell_type": "markdown",
   "metadata": {},
   "source": [
    "<b>Bootstrap</b> can be used to to quantify the uncertainty associated with a given statistical model. For example, bootstrap can be used to estimate <b>standard errors (which measures the uncertainty)</b> of the coefficients from a linear regression fit. Bootstrap can be applied to a wide range of statistical learning methods. The method of bootstrap is explained below via an example:\n",
    "\n",
    "Suppose we wish to invest money in two financial assests which yield returns of $X$ and $Y$. We will invest fraction $\\alpha$ of our money in $X$ and $1-\\alpha$ in $Y$. As there is a variablility associated with these returns, we wish to choose $\\alpha$ which minimizes the total risk or variance of our investment. i.e. <b>We want to minimize $Var(\\alpha X + (1-\\alpha) Y)$</b>. The value that minimizes this is given as:\n",
    "\n",
    "$$\\alpha = \\frac{\\sigma_Y^2 - \\sigma_{XY}}{\\sigma_X^2 + \\sigma_Y^2 - 2\\sigma_{XY}}$$\n",
    "\n",
    "where $\\sigma_X^2 = Var(X)$, $\\sigma_Y^2 = Var(Y)$ and $\\sigma_{XY} = Cov(X, Y)$. As these quantities are unknown, we can make estimates for them using the past measurements of $X$ and $Y$ and hence the estimate of $\\alpha$ can be computed.\n",
    "\n",
    "One way to quantify the accuracy of the estimate of $\\alpha$ is to repetedly draw 100 pairs of observations $(X, Y)$ 1000 times and hence estimating $\\alpha$ 1000 times. Suppose for the simulations, the parameters were set to $\\sigma_X^2 = 1$, $\\sigma_Y^2 = 1.25$ and $\\sigma_{XY} = 0.5$, then the true value of $\\alpha$ is 0.6. If the estimated vlaue of $\\alpha$ (from the simulation) turns out to be <b>0.5996</b> with standard deviation of <b>0.083</b>, we may say that the estimated value of $\\alpha$ (which is $\\widehat{\\alpha}$) differs from the true value by 0.08 on an average.\n",
    "\n",
    "In practice, for real data, we can not generate new samples from the original population and hence the above explained procedure is not feasible. <b>In bootstrap method, instead of obtaining independent data sets from the population, we obtain distinct data set by repeatedly sampling observations from the original data set.</b> For a sample with $n$ observations, each bootstrap data set contains $n$ observations <b>(sampled with replacement)</b> from the original dataset. A total of $B$ bootstrap data sets labeled as $Z^{*1}$, $Z^{*2}$, ..., $Z^{*B}$ are generated and corresponding B estimates of $\\alpha$ ($\\widehat{\\alpha}^{*1}$, $\\widehat{\\alpha}^{*2}$, ..., $\\widehat{\\alpha}^{*B}$) are obtained. The standard error of these bootstrap estimates can be obtained by:\n",
    "\n",
    "$$SE_{B}(\\widehat{\\alpha}) = \\sqrt{\\frac{1}{B-1} \\sum_{r=1}^{B} \\bigg( \\widehat{\\alpha}^{*r} - \\frac{1}{B} \\sum_{r^{'}=1}^{B} \\widehat{\\alpha}^{*r^{'}} \\bigg ) ^2}$$\n",
    "\n",
    "This way, a bootstrap process can be used very effictevly to estimate the variability associated with an estimated parameter."
   ]
  },
  {
   "cell_type": "markdown",
   "metadata": {},
   "source": [
    "### 5.4 Exercises\n",
    "#### Conceptual"
   ]
  },
  {
   "cell_type": "markdown",
   "metadata": {},
   "source": [
    "Q1. Using basic statistical properties of the variance, as well as singlevariable calculus, derive that the value of $\\alpha$ which minimizes $Var(\\alpha X + (1 - \\alpha) Y)$ is:\n",
    "\n",
    "$$\\alpha = \\frac{\\sigma_Y^2 - \\sigma_{XY}}{\\sigma_X^2 + \\sigma_Y^2 - 2\\sigma_{XY}}$$\n",
    "\n",
    "<b>Sol:</b> As we know that $Var(aX + bY) = a^2 Var(X) + b^2 Var(Y) + 2abCov(X, Y)$, the above quantity (that needs to be minimized) can be transformed as:\n",
    "\n",
    "$$Var(\\alpha X + (1 - \\alpha) Y) = \\alpha^2 Var(X) + (1-\\alpha)^2 Var(Y) + 2 \\alpha(1-\\alpha) Cov(X, Y)$$\n",
    "\n",
    "Differentiating with respect to $\\alpha$ and equation it to 0, we get:\n",
    "\n",
    "$$2\\alpha Var(X) - 2(1-\\alpha)Var(Y) + 2(1-2\\alpha)Cov(X, Y) = 0$$\n",
    "\n",
    "$$\\alpha \\bigg[Var(X) + Var(Y) -2Cov(X, Y) \\bigg] = Var(Y) - Cov(X, Y)$$\n",
    "\n",
    "$$\\alpha = \\frac{Var(Y) - Cov(X, Y)}{Var(X) + Var(Y) -2Cov(X, Y)} = \\frac{\\sigma_Y^2 - \\sigma_{XY}}{\\sigma_X^2 + \\sigma_Y^2 - 2\\sigma_{XY}}$$"
   ]
  },
  {
   "cell_type": "markdown",
   "metadata": {},
   "source": [
    "Q2. We will now derive the probability that a given observation is part of a bootstrap sample. Suppose that we obtain a bootstrap sample from a set of n observations.\n",
    "\n",
    "(a) What is the probability that the first bootstrap observation is not the jth observation from the original sample? Justify your answer.\n",
    "\n",
    "<b>Sol:</b> As the probability of $j$th observation being selected as the fisrt bootstrap sample is $\\frac{1}{n}$, the probability that the first bootstrap observation is not the $j$th observation is $1 - \\frac{1}{n}$.\n",
    "\n",
    "(b) What is the probability that the second bootstrap observation is not the jth observation from the original sample?\n",
    "\n",
    "<b>Sol:</b> Same as above, as we are doing sampling with replacement.\n",
    "\n",
    "(c) Argue that the probability that the jth observation is not in the bootstrap sample is $(1 − \\frac{1}{n})^n$.\n",
    "\n",
    "<b>Sol:</b> As we are selecting $n$ observations and the probablity that the $j$th observation is not selected as one of the individual samples is $1 - \\frac{1}{n}$, the overall probability of $j$th sample not being selected is $(1 − \\frac{1}{n})^n$.\n",
    "\n",
    "(d) When n = 5, what is the probability that the jth observation is in the bootstrap sample?\n",
    "\n",
    "<b>Sol:</b> Probability is $1 - (1 - \\frac{1}{5})^5 = 1 - 0.32768 = $ <b>0.67232</b>. \n",
    "\n",
    "(e) When n = 100, what is the probability that the jth observation is in the bootstrap sample?\n",
    "\n",
    "<b>Sol:</b> Probability is $1 - (1 - \\frac{1}{100})^100 = 1 - 0.366 = $ <b>0.634</b>. \n",
    "\n",
    "(f) When n = 10, 000, what is the probability that the jth observation is in the bootstrap sample?\n",
    "\n",
    "<b>Sol:</b> Probability is $1 - (1 - \\frac{1}{10000})^10000 = 1 - 0.36786 = $ <b>0.63214</b>. \n",
    "\n",
    "(g) Create a plot that displays, for each integer value of n from 1 to 100, 000, the probability that the jth observation is in the bootstrap sample. Comment on what you observe.\n",
    "\n",
    "<b>Sol:</b> The plot is displayed below. It can be observed that for a value of n=30, the value of probability reaches around <b>0.632</b>."
   ]
  },
  {
   "cell_type": "code",
   "execution_count": 12,
   "metadata": {},
   "outputs": [
    {
     "data": {
      "image/png": "[encoded data removed]",
      "text/plain": [
       "<Figure size 1080x576 with 1 Axes>"
      ]
     },
     "metadata": {},
     "output_type": "display_data"
    }
   ],
   "source": [
    "import numpy as np\n",
    "import matplotlib.pyplot as plt\n",
    "\n",
    "def compute_probability(n):\n",
    "    return 1 - (1 - 1/n)**n\n",
    "\n",
    "n_array = np.arange(1,100001)\n",
    "prob = {}\n",
    "for n in n_array:\n",
    "    prob[n] = compute_probability(n)\n",
    "    \n",
    "lists = sorted(prob.items()) \n",
    "x, y = zip(*lists)\n",
    "\n",
    "fig = plt.figure(figsize=(15,8))\n",
    "ax = fig.add_subplot(111)\n",
    "plt.plot(x, y, color='r')\n",
    "ax.set_xlabel('n')\n",
    "ax.set_ylabel('Probability')\n",
    "ax.set_title('Probability vs n')\n",
    "ax.set_xlim(10, 100000)\n",
    "ax.set_ylim(0.63, 0.64)\n",
    "\n",
    "plt.show()"
   ]
  },
  {
   "cell_type": "markdown",
   "metadata": {},
   "source": [
    "Q5. In Chapter 4, we used logistic regression to predict the probability of default using income and balance on the Default data set. We will now estimate the test error of this logistic regression model using the validation set approach. Do not forget to set a random seed before beginning your analysis."
   ]
  },
  {
   "cell_type": "code",
   "execution_count": 24,
   "metadata": {},
   "outputs": [],
   "source": [
    "import pandas as pd\n",
    "import seaborn as sns\n",
    "import matplotlib.pyplot as plt\n",
    "import numpy as np\n",
    "import statsmodels.api as sm\n",
    "\n",
    "np.random.seed(1)\n",
    "default = pd.read_excel(\"data/Default.xlsx\")\n",
    "default['student'] = default['student'].map({'Yes': 1, 'No': 0})\n",
    "default['default'] = default['default'].map({'Yes': 1, 'No': 0})"
   ]
  },
  {
   "cell_type": "markdown",
   "metadata": {},
   "source": [
    "(a) Fit a logistic regression model that uses income and balance to predict default."
   ]
  },
  {
   "cell_type": "code",
   "execution_count": 29,
   "metadata": {},
   "outputs": [
    {
     "name": "stdout",
     "output_type": "stream",
     "text": [
      "Optimization terminated successfully.\n",
      "         Current function value: 0.078948\n",
      "         Iterations 10\n",
      "                           Logit Regression Results                           \n",
      "==============================================================================\n",
      "Dep. Variable:                default   No. Observations:                10000\n",
      "Model:                          Logit   Df Residuals:                     9997\n",
      "Method:                           MLE   Df Model:                            2\n",
      "Date:                Wed, 12 Sep 2018   Pseudo R-squ.:                  0.4594\n",
      "Time:                        12:36:14   Log-Likelihood:                -789.48\n",
      "converged:                       True   LL-Null:                       -1460.3\n",
      "                                        LLR p-value:                4.541e-292\n",
      "==============================================================================\n",
      "                 coef    std err          z      P>|z|      [0.025      0.975]\n",
      "------------------------------------------------------------------------------\n",
      "const        -11.5405      0.435    -26.544      0.000     -12.393     -10.688\n",
      "income      2.081e-05   4.99e-06      4.174      0.000     1.1e-05    3.06e-05\n",
      "balance        0.0056      0.000     24.835      0.000       0.005       0.006\n",
      "==============================================================================\n",
      "\n",
      "Possibly complete quasi-separation: A fraction 0.14 of observations can be\n",
      "perfectly predicted. This might indicate that there is complete\n",
      "quasi-separation. In this case some parameters will not be identified.\n"
     ]
    }
   ],
   "source": [
    "from statsmodels.discrete.discrete_model import Logit\n",
    "\n",
    "X = default[['income', 'balance']]\n",
    "X = sm.add_constant(X, prepend=True)\n",
    "y = default['default']\n",
    "\n",
    "model = Logit(y, X)\n",
    "result = model.fit()\n",
    "print(result.summary())"
   ]
  },
  {
   "cell_type": "markdown",
   "metadata": {},
   "source": [
    "(b) Using the validation set approach, estimate the test error of this model.\n",
    "\n",
    "<b>Sol:</b> The estimated test error rate is <b>2.46%</b>."
   ]
  },
  {
   "cell_type": "code",
   "execution_count": 33,
   "metadata": {},
   "outputs": [
    {
     "name": "stdout",
     "output_type": "stream",
     "text": [
      "Optimization terminated successfully.\n",
      "         Current function value: 0.083176\n",
      "         Iterations 10\n",
      "                           Logit Regression Results                           \n",
      "==============================================================================\n",
      "Dep. Variable:                default   No. Observations:                 5000\n",
      "Model:                          Logit   Df Residuals:                     4997\n",
      "Method:                           MLE   Df Model:                            2\n",
      "Date:                Wed, 12 Sep 2018   Pseudo R-squ.:                  0.4634\n",
      "Time:                        12:39:27   Log-Likelihood:                -415.88\n",
      "converged:                       True   LL-Null:                       -775.08\n",
      "                                        LLR p-value:                1.001e-156\n",
      "==============================================================================\n",
      "                 coef    std err          z      P>|z|      [0.025      0.975]\n",
      "------------------------------------------------------------------------------\n",
      "const        -11.5308      0.604    -19.078      0.000     -12.715     -10.346\n",
      "income      2.357e-05   6.78e-06      3.476      0.001    1.03e-05    3.69e-05\n",
      "balance        0.0057      0.000     17.920      0.000       0.005       0.006\n",
      "==============================================================================\n",
      "\n",
      "Possibly complete quasi-separation: A fraction 0.14 of observations can be\n",
      "perfectly predicted. This might indicate that there is complete\n",
      "quasi-separation. In this case some parameters will not be identified.\n",
      "Estimation for test error rate is: 0.0246\n"
     ]
    }
   ],
   "source": [
    "from sklearn.model_selection import train_test_split\n",
    "\n",
    "train, validation = train_test_split(default, test_size=0.5)\n",
    "\n",
    "X = train[['income', 'balance']]\n",
    "X = sm.add_constant(X, prepend=True)\n",
    "y = train['default']\n",
    "\n",
    "model = Logit(y, X)\n",
    "result = model.fit()\n",
    "print(result.summary())\n",
    "\n",
    "X_val = validation[['income', 'balance']]\n",
    "X_val = sm.add_constant(X_val, prepend=True)\n",
    "predictions = result.predict(X_val) > 0.5\n",
    "\n",
    "print(\"Estimation for test error rate is: \" \n",
    "      +str((len(validation['default']) - np.sum(predictions == validation['default'])) / (len(validation['default']))))"
   ]
  },
  {
   "cell_type": "markdown",
   "metadata": {},
   "source": [
    "(c) Repeat the process in (b) three times, using three different splits of the observations into a training set and a validation set. Comment on the results obtained.\n",
    "\n",
    "<b>Sol:</b> The estimated test error rate for the three cases are: <b>2.66%, 2.7%</b> and <b>2.8%</b>. It varies a lot along iteration."
   ]
  },
  {
   "cell_type": "code",
   "execution_count": 35,
   "metadata": {},
   "outputs": [
    {
     "name": "stdout",
     "output_type": "stream",
     "text": [
      "Optimization terminated successfully.\n",
      "         Current function value: 0.079463\n",
      "         Iterations 10\n",
      "Estimation for test error rate is: 0.0266\n",
      "Optimization terminated successfully.\n",
      "         Current function value: 0.081072\n",
      "         Iterations 10\n",
      "Estimation for test error rate is: 0.027\n",
      "Optimization terminated successfully.\n",
      "         Current function value: 0.073826\n",
      "         Iterations 10\n",
      "Estimation for test error rate is: 0.028\n"
     ]
    }
   ],
   "source": [
    "for i in range(3):\n",
    "    train, validation = train_test_split(default, test_size=0.5)\n",
    "\n",
    "    X = train[['income', 'balance']]\n",
    "    X = sm.add_constant(X, prepend=True)\n",
    "    y = train['default']\n",
    "\n",
    "    model = Logit(y, X)\n",
    "    result = model.fit()\n",
    "\n",
    "    X_val = validation[['income', 'balance']]\n",
    "    X_val = sm.add_constant(X_val, prepend=True)\n",
    "    predictions = result.predict(X_val) > 0.5\n",
    "\n",
    "    print(\"Estimation for test error rate is: \" \n",
    "      +str((len(validation['default']) - np.sum(predictions == validation['default'])) / (len(validation['default']))))"
   ]
  },
  {
   "cell_type": "markdown",
   "metadata": {},
   "source": [
    "(d) Now consider a logistic regression model that predicts the probability of default using income, balance, and a dummy variable for student. Estimate the test error for this model using the validation set approach. Comment on whether or not including a dummy variable for student leads to a reduction in the test error rate.\n",
    "\n",
    "<b>Sol:</b> Including student in the model does not improve the test erro rate much."
   ]
  },
  {
   "cell_type": "code",
   "execution_count": 38,
   "metadata": {},
   "outputs": [
    {
     "name": "stdout",
     "output_type": "stream",
     "text": [
      "Optimization terminated successfully.\n",
      "         Current function value: 0.070154\n",
      "         Iterations 10\n",
      "                           Logit Regression Results                           \n",
      "==============================================================================\n",
      "Dep. Variable:                default   No. Observations:                 5000\n",
      "Model:                          Logit   Df Residuals:                     4996\n",
      "Method:                           MLE   Df Model:                            3\n",
      "Date:                Wed, 12 Sep 2018   Pseudo R-squ.:                  0.4739\n",
      "Time:                        12:47:51   Log-Likelihood:                -350.77\n",
      "converged:                       True   LL-Null:                       -666.74\n",
      "                                        LLR p-value:                1.191e-136\n",
      "==============================================================================\n",
      "                 coef    std err          z      P>|z|      [0.025      0.975]\n",
      "------------------------------------------------------------------------------\n",
      "const        -11.3053      0.760    -14.878      0.000     -12.795      -9.816\n",
      "income     -1.877e-06   1.22e-05     -0.154      0.878   -2.58e-05    2.21e-05\n",
      "balance        0.0061      0.000     16.602      0.000       0.005       0.007\n",
      "student       -0.9074      0.348     -2.610      0.009      -1.589      -0.226\n",
      "==============================================================================\n",
      "\n",
      "Possibly complete quasi-separation: A fraction 0.19 of observations can be\n",
      "perfectly predicted. This might indicate that there is complete\n",
      "quasi-separation. In this case some parameters will not be identified.\n",
      "Estimation for test error rate is: 0.0306\n"
     ]
    }
   ],
   "source": [
    "train, validation = train_test_split(default, test_size=0.5)\n",
    "\n",
    "X = train[['income', 'balance', 'student']]\n",
    "X = sm.add_constant(X, prepend=True)\n",
    "y = train['default']\n",
    "\n",
    "model = Logit(y, X)\n",
    "result = model.fit()\n",
    "print(result.summary())\n",
    "\n",
    "X_val = validation[['income', 'balance', 'student']]\n",
    "X_val = sm.add_constant(X_val, prepend=True)\n",
    "predictions = result.predict(X_val) > 0.5\n",
    "\n",
    "print(\"Estimation for test error rate is: \" \n",
    "      +str((len(validation['default']) - np.sum(predictions == validation['default'])) / (len(validation['default']))))"
   ]
  },
  {
   "cell_type": "markdown",
   "metadata": {},
   "source": [
    "Q6. We continue to consider the use of a logistic regression model to predict the probability of default using income and balance on the Default data set. In particular, we will now compute estimates for the standard errors of the income and balance logistic regression coefficients in two different ways: (1) using the bootstrap, and (2) using the standard formula for computing the standard errors in the glm() function. Do not forget to set a random seed before beginning your analysis."
   ]
  },
  {
   "cell_type": "markdown",
   "metadata": {},
   "source": [
    "(a) Using the summary() and glm() functions, determine the estimated standard errors for the coefficients associated with income and balance in a multiple logistic regression model that uses both predictors.\n",
    "\n",
    "<b>Sol:</b> The standard errors for the coefficients are <b>0.435, 4.99e-06 and 0.000</b> respectively."
   ]
  },
  {
   "cell_type": "code",
   "execution_count": 39,
   "metadata": {},
   "outputs": [
    {
     "name": "stdout",
     "output_type": "stream",
     "text": [
      "Optimization terminated successfully.\n",
      "         Current function value: 0.078948\n",
      "         Iterations 10\n",
      "                           Logit Regression Results                           \n",
      "==============================================================================\n",
      "Dep. Variable:                default   No. Observations:                10000\n",
      "Model:                          Logit   Df Residuals:                     9997\n",
      "Method:                           MLE   Df Model:                            2\n",
      "Date:                Wed, 12 Sep 2018   Pseudo R-squ.:                  0.4594\n",
      "Time:                        13:21:36   Log-Likelihood:                -789.48\n",
      "converged:                       True   LL-Null:                       -1460.3\n",
      "                                        LLR p-value:                4.541e-292\n",
      "==============================================================================\n",
      "                 coef    std err          z      P>|z|      [0.025      0.975]\n",
      "------------------------------------------------------------------------------\n",
      "const        -11.5405      0.435    -26.544      0.000     -12.393     -10.688\n",
      "income      2.081e-05   4.99e-06      4.174      0.000     1.1e-05    3.06e-05\n",
      "balance        0.0056      0.000     24.835      0.000       0.005       0.006\n",
      "==============================================================================\n",
      "\n",
      "Possibly complete quasi-separation: A fraction 0.14 of observations can be\n",
      "perfectly predicted. This might indicate that there is complete\n",
      "quasi-separation. In this case some parameters will not be identified.\n"
     ]
    }
   ],
   "source": [
    "from statsmodels.discrete.discrete_model import Logit\n",
    "\n",
    "X = default[['income', 'balance']]\n",
    "X = sm.add_constant(X, prepend=True)\n",
    "y = default['default']\n",
    "\n",
    "model = Logit(y, X)\n",
    "result = model.fit()\n",
    "print(result.summary())"
   ]
  },
  {
   "cell_type": "markdown",
   "metadata": {},
   "source": [
    "(b) Write a function, boot.fn(), that takes as input the Default data set as well as an index of the observations, and that outputs the coefficient estimates for income and balance in the multiple logistic regression model."
   ]
  },
  {
   "cell_type": "code",
   "execution_count": 64,
   "metadata": {},
   "outputs": [
    {
     "name": "stdout",
     "output_type": "stream",
     "text": [
      "Optimization terminated successfully.\n",
      "         Current function value: 0.076003\n",
      "         Iterations 10\n",
      "                           Logit Regression Results                           \n",
      "==============================================================================\n",
      "Dep. Variable:                default   No. Observations:                10000\n",
      "Model:                          Logit   Df Residuals:                     9997\n",
      "Method:                           MLE   Df Model:                            2\n",
      "Date:                Wed, 12 Sep 2018   Pseudo R-squ.:                  0.4672\n",
      "Time:                        13:34:46   Log-Likelihood:                -760.03\n",
      "converged:                       True   LL-Null:                       -1426.5\n",
      "                                        LLR p-value:                3.634e-290\n",
      "==============================================================================\n",
      "                 coef    std err          z      P>|z|      [0.025      0.975]\n",
      "------------------------------------------------------------------------------\n",
      "const        -11.8500      0.449    -26.380      0.000     -12.730     -10.970\n",
      "income      2.468e-05   5.02e-06      4.919      0.000    1.48e-05    3.45e-05\n",
      "balance        0.0057      0.000     24.615      0.000       0.005       0.006\n",
      "==============================================================================\n",
      "\n",
      "Possibly complete quasi-separation: A fraction 0.15 of observations can be\n",
      "perfectly predicted. This might indicate that there is complete\n",
      "quasi-separation. In this case some parameters will not be identified.\n"
     ]
    }
   ],
   "source": [
    "from sklearn.utils import resample\n",
    "\n",
    "def boot(df):\n",
    "    return resample(df)\n",
    "\n",
    "train = boot(default)\n",
    "X = train[['income', 'balance']]\n",
    "X = sm.add_constant(X, prepend=True)\n",
    "y = train['default']\n",
    "\n",
    "model = Logit(y, X)\n",
    "result = model.fit()\n",
    "print(result.summary())"
   ]
  },
  {
   "cell_type": "markdown",
   "metadata": {},
   "source": [
    "(c) Use the boot() function to estimate the standard errors of the logistic regression coefficients for income and balance.\n",
    "\n",
    "<b>Sol:</b> The standard errors for the coefficients are <b>0.4212, 4.554e-06 and 0.00022</b> respectively."
   ]
  },
  {
   "cell_type": "code",
   "execution_count": 73,
   "metadata": {},
   "outputs": [
    {
     "name": "stdout",
     "output_type": "stream",
     "text": [
      "SE for intercept: 0.421160671038164\n",
      "SE for income: 4.5539698907803916e-06\n",
      "SE for balance: 0.00022086255501253455\n"
     ]
    }
   ],
   "source": [
    "B = 1000\n",
    "\n",
    "intercept = []\n",
    "income = []\n",
    "balance = []\n",
    "\n",
    "for i in range(B):\n",
    "    train = boot(default)\n",
    "    X = train[['income', 'balance']]\n",
    "    X = sm.add_constant(X, prepend=True)\n",
    "    y = train['default']\n",
    "\n",
    "    model = Logit(y, X)\n",
    "    result = model.fit(disp=False)\n",
    "    intercept.append(result.params.const)\n",
    "    income.append(result.params.income)\n",
    "    balance.append(result.params.balance)\n",
    "    \n",
    "print(\"SE for intercept: \" +str(np.std(intercept, ddof=1)))\n",
    "print(\"SE for income: \" +str(np.std(income, ddof=1)))\n",
    "print(\"SE for balance: \" +str(np.std(balance, ddof=1)))"
   ]
  },
  {
   "cell_type": "markdown",
   "metadata": {},
   "source": [
    "(d) Comment on the estimated standard errors obtained using the glm() function and using your bootstrap function.\n",
    "\n",
    "<b>Sol:</b> The standard errors obtained using both of the methods are in accordance."
   ]
  },
  {
   "cell_type": "markdown",
   "metadata": {},
   "source": [
    "Q7. You will now take this approach in order to compute the LOOCV error for a simple logistic regression model on the Weekly data set.\n",
    "\n",
    "(a) Fit a logistic regression model that predicts Direction using Lag1 and Lag2."
   ]
  },
  {
   "cell_type": "code",
   "execution_count": 76,
   "metadata": {},
   "outputs": [
    {
     "name": "stdout",
     "output_type": "stream",
     "text": [
      "Optimization terminated successfully.\n",
      "         Current function value: 0.683297\n",
      "         Iterations 4\n",
      "                           Logit Regression Results                           \n",
      "==============================================================================\n",
      "Dep. Variable:                  trend   No. Observations:                 1089\n",
      "Model:                          Logit   Df Residuals:                     1086\n",
      "Method:                           MLE   Df Model:                            2\n",
      "Date:                Wed, 12 Sep 2018   Pseudo R-squ.:                0.005335\n",
      "Time:                        14:01:38   Log-Likelihood:                -744.11\n",
      "converged:                       True   LL-Null:                       -748.10\n",
      "                                        LLR p-value:                   0.01848\n",
      "==============================================================================\n",
      "                 coef    std err          z      P>|z|      [0.025      0.975]\n",
      "------------------------------------------------------------------------------\n",
      "const          0.2212      0.061      3.599      0.000       0.101       0.342\n",
      "Lag1          -0.0387      0.026     -1.477      0.140      -0.090       0.013\n",
      "Lag2           0.0602      0.027      2.270      0.023       0.008       0.112\n",
      "==============================================================================\n"
     ]
    }
   ],
   "source": [
    "weekly = pd.read_csv(\"data/Weekly.csv\")\n",
    "weekly['trend'] = weekly['Direction'].map({'Down': 0, 'Up': 1})\n",
    "\n",
    "X = weekly[['Lag1', 'Lag2']]\n",
    "X = sm.add_constant(X, prepend=True)\n",
    "y = weekly['trend']\n",
    "\n",
    "model = Logit(y, X)\n",
    "result = model.fit()\n",
    "print(result.summary())"
   ]
  },
  {
   "cell_type": "markdown",
   "metadata": {},
   "source": [
    "(b) Fit a logistic regressionmodel that predicts Direction using Lag1 and Lag2 using all but the first observation."
   ]
  },
  {
   "cell_type": "code",
   "execution_count": 103,
   "metadata": {},
   "outputs": [
    {
     "name": "stdout",
     "output_type": "stream",
     "text": [
      "Optimization terminated successfully.\n",
      "         Current function value: 0.683147\n",
      "         Iterations 4\n",
      "                           Logit Regression Results                           \n",
      "==============================================================================\n",
      "Dep. Variable:                  trend   No. Observations:                 1088\n",
      "Model:                          Logit   Df Residuals:                     1085\n",
      "Method:                           MLE   Df Model:                            2\n",
      "Date:                Wed, 12 Sep 2018   Pseudo R-squ.:                0.005387\n",
      "Time:                        14:41:45   Log-Likelihood:                -743.26\n",
      "converged:                       True   LL-Null:                       -747.29\n",
      "                                        LLR p-value:                   0.01785\n",
      "==============================================================================\n",
      "                 coef    std err          z      P>|z|      [0.025      0.975]\n",
      "------------------------------------------------------------------------------\n",
      "const          0.2232      0.061      3.630      0.000       0.103       0.344\n",
      "Lag1          -0.0384      0.026     -1.466      0.143      -0.090       0.013\n",
      "Lag2           0.0608      0.027      2.291      0.022       0.009       0.113\n",
      "==============================================================================\n"
     ]
    }
   ],
   "source": [
    "train = weekly.iloc[1:len(weekly),:]\n",
    "test = weekly.iloc[0:1, :]\n",
    "\n",
    "X = train[['Lag1', 'Lag2']]\n",
    "X = sm.add_constant(X, prepend=True)\n",
    "y = train['trend']\n",
    "\n",
    "model = Logit(y, X)\n",
    "result = model.fit()\n",
    "print(result.summary())"
   ]
  },
  {
   "cell_type": "markdown",
   "metadata": {},
   "source": [
    "(c) Use the model from (b) to predict the direction of the first observation. You can do this by predicting that the first observation will go up if P(Direction=\"Up\"|Lag1, Lag2) > 0.5. Was this observation correctly classified?\n",
    "\n",
    "<b>Sol:</b> The observation is not correctly classified as the prediction is <b>Up</b> but true trend is <b>Down</b>."
   ]
  },
  {
   "cell_type": "code",
   "execution_count": 125,
   "metadata": {},
   "outputs": [
    {
     "name": "stdout",
     "output_type": "stream",
     "text": [
      "Prediction: True\n"
     ]
    }
   ],
   "source": [
    "X = test[['Lag1', 'Lag2']]\n",
    "X = sm.add_constant(X, prepend=True, has_constant='add')\n",
    "predictions = result.predict(X) > 0.5\n",
    "print(\"Prediction: \" + str(predictions[0]))"
   ]
  },
  {
   "cell_type": "markdown",
   "metadata": {},
   "source": [
    "(d) Write a for loop from i = 1 to i = n, where n is the number of observations in the data set, that performs each of the following steps:\n",
    "\n",
    "    i. Fit a logistic regression model using all but the ith observation to predict Direction using Lag1 and Lag2.\n",
    "    ii. Compute the posterior probability of the market moving up for the ith observation.\n",
    "    iii. Use the posterior probability for the ith observation in order to predict whether or not the market moves up.\n",
    "    iv. Determine whether or not an error was made in predicting the direction for the ith observation. If an error was made, then indicate this as a 1, and otherwise indicate it as a 0."
   ]
  },
  {
   "cell_type": "code",
   "execution_count": 153,
   "metadata": {},
   "outputs": [],
   "source": [
    "n = len(weekly)\n",
    "\n",
    "error = []\n",
    "for i in range(n):\n",
    "    test = weekly.iloc[[i]]\n",
    "    train = weekly.drop(weekly.index[i])\n",
    "    \n",
    "    X = train[['Lag1', 'Lag2']]\n",
    "    X = sm.add_constant(X, prepend=True)\n",
    "    y = train['trend']\n",
    "\n",
    "    model = Logit(y, X)\n",
    "    result = model.fit(disp=False)\n",
    "    \n",
    "    X = test[['Lag1', 'Lag2']]\n",
    "    X = sm.add_constant(X, prepend=True, has_constant='add')\n",
    "    predictions = result.predict(X).iloc[0] > 0.5\n",
    "    error.append(predictions == test['trend'].iloc[0])"
   ]
  },
  {
   "cell_type": "markdown",
   "metadata": {},
   "source": [
    "(e) Take the average of the n numbers obtained in (d)iv in order to obtain the LOOCV estimate for the test error. Comment on the results.\n",
    "\n",
    "<b>Sol:</b> The LOOCV estimate for the test error is <b>0.44995</b>."
   ]
  },
  {
   "cell_type": "code",
   "execution_count": 158,
   "metadata": {},
   "outputs": [
    {
     "name": "stdout",
     "output_type": "stream",
     "text": [
      "LOOCV estimate for the test error is: 0.44995408631772266\n"
     ]
    }
   ],
   "source": [
    "print(\"LOOCV estimate for the test error is: \" + str((len(error) - sum(error)) / (len(error))))"
   ]
  },
  {
   "cell_type": "markdown",
   "metadata": {},
   "source": [
    "Q8. We will now perform cross-validation on a simulated data set.\n",
    "\n",
    "(a) Generate a simulated data set as follows:\n",
    "> set .seed (1)\n",
    "> y=rnorm (100)\n",
    "> x=rnorm (100)\n",
    "> y=x-2* x^2+ rnorm (100)\n",
    "\n",
    "In this data set, what is n and what is p? Write out the model used to generate the data in equation form.\n",
    "\n",
    "<b>Sol:</b> In this data set, $n=100$ and $p=2$. The model used is:\n",
    "\n",
    "$$Y = X - 2X^2 + \\epsilon$$"
   ]
  },
  {
   "cell_type": "code",
   "execution_count": 174,
   "metadata": {},
   "outputs": [],
   "source": [
    "np.random.seed(1)\n",
    "x = np.random.normal(loc=0, scale=1, size=100)\n",
    "y = x - 2*(x**2) + np.random.normal(loc=0, scale=1, size=100)"
   ]
  },
  {
   "cell_type": "markdown",
   "metadata": {},
   "source": [
    "(b) Create a scatterplot of X against Y . Comment on what you find.\n",
    "\n",
    "<b>Sol:</b> The scatterplot suggests a quadratic relationship."
   ]
  },
  {
   "cell_type": "code",
   "execution_count": 175,
   "metadata": {},
   "outputs": [
    {
     "data": {
      "text/plain": [
       "<matplotlib.axes._subplots.AxesSubplot at 0x117510dd8>"
      ]
     },
     "execution_count": 175,
     "metadata": {},
     "output_type": "execute_result"
    },
    {
     "data": {
      "image/png": "[encoded data removed]",
      "text/plain": [
       "<Figure size 1080x576 with 1 Axes>"
      ]
     },
     "metadata": {},
     "output_type": "display_data"
    }
   ],
   "source": [
    "fig = plt.figure(figsize=(15, 8))\n",
    "sns.scatterplot(x=x, y=y, color='r')"
   ]
  },
  {
   "cell_type": "markdown",
   "metadata": {},
   "source": [
    "(c) Set a random seed, and then compute the LOOCV errors that result from fitting the following four models using least squares:\n",
    "\n",
    "    i. Y = β0 + β1X + e\n",
    "    ii. Y = β0 + β1X + β2X2 + e\n",
    "    iii. Y = β0 + β1X + β2X2 + β3X3 + e\n",
    "    iv. Y = β0 + β1X + β2X2 + β3X3 + β4X4 + e\n",
    "    \n",
    "<b>Sol:</b> Instead models upto 7th power of X has been fitted. The model with 4 parameters has the lowest LOOCV error."
   ]
  },
  {
   "cell_type": "code",
   "execution_count": 224,
   "metadata": {},
   "outputs": [
    {
     "name": "stdout",
     "output_type": "stream",
     "text": [
      "MSE for model 1: [6.26076433]\n",
      "MSE for model 2: [0.91428971]\n",
      "MSE for model 3: [0.92687688]\n",
      "MSE for model 4: [0.86691169]\n",
      "MSE for model 5: [0.88748397]\n",
      "MSE for model 6: [0.95120753]\n",
      "MSE for model 7: [1.71904764]\n"
     ]
    }
   ],
   "source": [
    "import random\n",
    "from sklearn.linear_model import LinearRegression\n",
    "\n",
    "def LOOCV(df):\n",
    "    n = len(df)\n",
    "    error = 0.0\n",
    "\n",
    "    for i in range(n):\n",
    "        test = df.iloc[[i]]\n",
    "        train = df.drop(df.index[i])\n",
    "    \n",
    "        X_ = train.loc[:, train.columns != 'y']\n",
    "        y_ = train['y']\n",
    "    \n",
    "        model = LinearRegression(fit_intercept=True)\n",
    "        model.fit (X_, y_)\n",
    "    \n",
    "        X_ = test.loc[:, df.columns != 'y']\n",
    "        predictions = model.predict(X_)\n",
    "        error += (predictions - test.iloc[0]['y'])**2\n",
    "        \n",
    "    return (error/n)\n",
    "\n",
    "random.seed(1)\n",
    "# Model 1\n",
    "df = pd.DataFrame({'x':x, 'y':y})\n",
    "print(\"MSE for model 1: \" +str(LOOCV(df)))\n",
    "\n",
    "# Model 1\n",
    "df = pd.DataFrame({'x':x, 'x2':x**2, 'y':y})\n",
    "print(\"MSE for model 2: \" +str(LOOCV(df)))\n",
    "\n",
    "# Model 3\n",
    "df = pd.DataFrame({'x':x, 'x2':x**2, 'x3':x**3, 'y':y})\n",
    "print(\"MSE for model 3: \" +str(LOOCV(df)))\n",
    "\n",
    "# Model 4\n",
    "df = pd.DataFrame({'x':x, 'x2':x**2, 'x3':x**3, 'x4':x**4, 'y':y})\n",
    "print(\"MSE for model 4: \" +str(LOOCV(df)))\n",
    "\n",
    "# Model 5\n",
    "df = pd.DataFrame({'x':x, 'x2':x**2, 'x3':x**3, 'x4':x**4, 'x5':x**5, 'y':y})\n",
    "print(\"MSE for model 5: \" +str(LOOCV(df)))\n",
    "\n",
    "# Model 6\n",
    "df = pd.DataFrame({'x':x, 'x2':x**2, 'x3':x**3, 'x4':x**4, 'x5':x**5, 'x6':x**6, 'y':y})\n",
    "print(\"MSE for model 6: \" +str(LOOCV(df)))\n",
    "\n",
    "# Model 7\n",
    "df = pd.DataFrame({'x':x, 'x2':x**2, 'x3':x**3, 'x4':x**4, 'x5':x**5, 'x6':x**6, 'x7':x**7, 'y':y})\n",
    "print(\"MSE for model 7: \" +str(LOOCV(df)))"
   ]
  },
  {
   "cell_type": "markdown",
   "metadata": {},
   "source": [
    "(d) Repeat (c) using another random seed, and report your results. Are your results the same as what you got in (c)? Why?\n",
    "\n",
    "<b>Sol:</b> The results are identical."
   ]
  },
  {
   "cell_type": "code",
   "execution_count": 213,
   "metadata": {},
   "outputs": [
    {
     "name": "stdout",
     "output_type": "stream",
     "text": [
      "MSE for model 1: [6.26076433]\n",
      "MSE for model 2: [0.91428971]\n",
      "MSE for model 3: [0.92687688]\n",
      "MSE for model 4: [0.86691169]\n",
      "MSE for model 5: [0.88748397]\n",
      "MSE for model 6: [0.95120753]\n",
      "MSE for model 7: [1.71904764]\n"
     ]
    }
   ],
   "source": [
    "random.seed(5)\n",
    "# Model 1\n",
    "df = pd.DataFrame({'x':x, 'y':y})\n",
    "print(\"MSE for model 1: \" +str(LOOCV(df)))\n",
    "\n",
    "# Model 1\n",
    "df = pd.DataFrame({'x':x, 'x2':x**2, 'y':y})\n",
    "print(\"MSE for model 2: \" +str(LOOCV(df)))\n",
    "\n",
    "# Model 3\n",
    "df = pd.DataFrame({'x':x, 'x2':x**2, 'x3':x**3, 'y':y})\n",
    "print(\"MSE for model 3: \" +str(LOOCV(df)))\n",
    "\n",
    "# Model 4\n",
    "df = pd.DataFrame({'x':x, 'x2':x**2, 'x3':x**3, 'x4':x**4, 'y':y})\n",
    "print(\"MSE for model 4: \" +str(LOOCV(df)))\n",
    "\n",
    "# Model 5\n",
    "df = pd.DataFrame({'x':x, 'x2':x**2, 'x3':x**3, 'x4':x**4, 'x5':x**5, 'y':y})\n",
    "print(\"MSE for model 5: \" +str(LOOCV(df)))\n",
    "\n",
    "# Model 6\n",
    "df = pd.DataFrame({'x':x, 'x2':x**2, 'x3':x**3, 'x4':x**4, 'x5':x**5, 'x6':x**6, 'y':y})\n",
    "print(\"MSE for model 6: \" +str(LOOCV(df)))\n",
    "\n",
    "# Model 7\n",
    "df = pd.DataFrame({'x':x, 'x2':x**2, 'x3':x**3, 'x4':x**4, 'x5':x**5, 'x6':x**6, 'x7':x**7, 'y':y})\n",
    "print(\"MSE for model 7: \" +str(LOOCV(df)))"
   ]
  },
  {
   "cell_type": "markdown",
   "metadata": {},
   "source": [
    "(e) Which of the models in (c) had the smallest LOOCV error? Is this what you expected? Explain your answer.\n",
    "\n",
    "<b>Sol:</b> The 4th model (the one with 4 parameters) has the lowest LOOCV error. This is not expected as the relationship between X and Y is quadratic."
   ]
  },
  {
   "cell_type": "markdown",
   "metadata": {},
   "source": [
    "(f) Comment on the statistical significance of the coefficient estimates that results from fitting each of the models in (c) using least squares. Do these results agree with the conclusions drawn based on the cross-validation results?\n",
    "\n",
    "<b>Sol:</b> From the test of statistical significance for the model (with 4 parameters), it is observed that the cubic term is not statistically significant."
   ]
  },
  {
   "cell_type": "code",
   "execution_count": 227,
   "metadata": {},
   "outputs": [
    {
     "name": "stdout",
     "output_type": "stream",
     "text": [
      "                            OLS Regression Results                            \n",
      "==============================================================================\n",
      "Dep. Variable:                      y   R-squared:                       0.873\n",
      "Model:                            OLS   Adj. R-squared:                  0.867\n",
      "Method:                 Least Squares   F-statistic:                     163.0\n",
      "Date:                Wed, 12 Sep 2018   Prob (F-statistic):           1.24e-41\n",
      "Time:                        19:10:57   Log-Likelihood:                -130.63\n",
      "No. Observations:                 100   AIC:                             271.3\n",
      "Df Residuals:                      95   BIC:                             284.3\n",
      "Df Model:                           4                                         \n",
      "Covariance Type:            nonrobust                                         \n",
      "==============================================================================\n",
      "                 coef    std err          t      P>|t|      [0.025      0.975]\n",
      "------------------------------------------------------------------------------\n",
      "const          0.3140      0.136      2.311      0.023       0.044       0.584\n",
      "x              0.9127      0.183      4.999      0.000       0.550       1.275\n",
      "x2            -2.5445      0.248    -10.264      0.000      -3.037      -2.052\n",
      "x3             0.0992      0.064      1.556      0.123      -0.027       0.226\n",
      "x4             0.1394      0.057      2.437      0.017       0.026       0.253\n",
      "==============================================================================\n",
      "Omnibus:                        1.537   Durbin-Watson:                   2.100\n",
      "Prob(Omnibus):                  0.464   Jarque-Bera (JB):                1.088\n",
      "Skew:                          -0.238   Prob(JB):                        0.581\n",
      "Kurtosis:                       3.184   Cond. No.                         15.9\n",
      "==============================================================================\n",
      "\n",
      "Warnings:\n",
      "[1] Standard Errors assume that the covariance matrix of the errors is correctly specified.\n"
     ]
    }
   ],
   "source": [
    "df = pd.DataFrame({'x':x, 'x2':x**2, 'x3':x**3, 'x4':x**4, 'y':y})\n",
    "\n",
    "X_ = df.loc[:, df.columns != 'y']\n",
    "X_ = sm.add_constant(X_, prepend=True)\n",
    "y_ = df['y']\n",
    "\n",
    "model = sm.OLS(y_, X_)\n",
    "result = model.fit()\n",
    "print(result.summary())"
   ]
  },
  {
   "cell_type": "markdown",
   "metadata": {},
   "source": [
    "Q9. We will now consider the Boston housing data set, from the MASS library.\n",
    "\n",
    "(a) Based on this data set, provide an estimate for the population mean of medv. Call this estimate $\\widehat{\\mu}$.\n",
    "\n",
    "<b>Sol:</b> Estimate for the population mean of medv is <b>22.5328</b>."
   ]
  },
  {
   "cell_type": "code",
   "execution_count": 229,
   "metadata": {},
   "outputs": [
    {
     "name": "stdout",
     "output_type": "stream",
     "text": [
      "Estimate for population mean of medv is: 22.532806324110677\n"
     ]
    }
   ],
   "source": [
    "boston = pd.read_csv(\"data/Boston.csv\")\n",
    "print(\"Estimate for population mean of medv is: \" +str(boston['medv'].mean()))"
   ]
  },
  {
   "cell_type": "markdown",
   "metadata": {},
   "source": [
    "(b) Provide an estimate of the standard error of $\\widehat{\\mu}$. Interpret this result.\n",
    "\n",
    "Hint: We can compute the standard error of the sample mean by dividing the sample standard deviation by the square root of the number of observations."
   ]
  },
  {
   "cell_type": "code",
   "execution_count": 231,
   "metadata": {},
   "outputs": [
    {
     "name": "stdout",
     "output_type": "stream",
     "text": [
      "Estimate of standard error of sample mean of medv is: 0.40886114749753505\n"
     ]
    }
   ],
   "source": [
    "import math\n",
    "\n",
    "print(\"Estimate of standard error of sample mean of medv is: \" +str(boston['medv'].std() / math.sqrt(len(boston))))"
   ]
  },
  {
   "cell_type": "markdown",
   "metadata": {},
   "source": [
    "(c) Now estimate the standard error of $\\widehat{\\mu}$ using the bootstrap. How does this compare to your answer from (b)?\n",
    "\n",
    "<b>Sol:</b> The estimate using bootstrap is <b>0.40932</b>, which is quite close to the estimate in (b)."
   ]
  },
  {
   "cell_type": "code",
   "execution_count": 236,
   "metadata": {},
   "outputs": [
    {
     "name": "stdout",
     "output_type": "stream",
     "text": [
      "Estimate of standard error of sample mean of medv (using bootstrap) is: 0.4093238681867342\n"
     ]
    }
   ],
   "source": [
    "def boot(df):\n",
    "    return resample(df)\n",
    "\n",
    "B = 1000\n",
    "sample_mean = []\n",
    "\n",
    "for i in range(B):\n",
    "    df = boot(boston)\n",
    "    sample_mean.append(df['medv'].mean())\n",
    "    \n",
    "print(\"Estimate of standard error of sample mean of medv (using bootstrap) is: \" +str(np.std(sample_mean, ddof=1)))"
   ]
  },
  {
   "cell_type": "markdown",
   "metadata": {},
   "source": [
    "(d) Based on your bootstrap estimate from (c), provide a 95% confidence interval for the mean of medv. Compare it to the results obtained using t.test(Boston$medv).\n",
    "\n",
    "<b>Sol:</b> The 95% confidence interval calculated from bootstrap is <b>(22.12348,22.94212)</b>. The p-value for t-test of the mean of medv for the equality with 0 is approximately equal to 0, which is in accordance with the results."
   ]
  },
  {
   "cell_type": "code",
   "execution_count": 241,
   "metadata": {},
   "outputs": [
    {
     "name": "stdout",
     "output_type": "stream",
     "text": [
      "95% Confidence interval using bootstrap is: (22.12348,22.942120000000003)\n"
     ]
    },
    {
     "data": {
      "text/plain": [
       "Ttest_1sampResult(statistic=55.11114583037392, pvalue=9.370623727132662e-216)"
      ]
     },
     "execution_count": 241,
     "metadata": {},
     "output_type": "execute_result"
    }
   ],
   "source": [
    "import scipy.stats as stats\n",
    "\n",
    "print(\"95% Confidence interval using bootstrap is: (\" + str(22.5328 - 0.40932) + \",\" + str(22.5328 + 0.40932) + \")\")\n",
    "stats.ttest_1samp(a= boston['medv'], popmean=0)"
   ]
  },
  {
   "cell_type": "markdown",
   "metadata": {},
   "source": [
    "(e) Based on this data set, provide an estimate, $\\widehat{\\mu_{med}}$, for the median value of medv in the population.\n",
    "\n",
    "<b>Sol:</b> Estimate for the population median of medv is <b>21.2</b>."
   ]
  },
  {
   "cell_type": "code",
   "execution_count": 243,
   "metadata": {},
   "outputs": [
    {
     "name": "stdout",
     "output_type": "stream",
     "text": [
      "Estimate for population median of medv is: 21.2\n"
     ]
    }
   ],
   "source": [
    "print(\"Estimate for population median of medv is: \" +str(boston['medv'].median()))"
   ]
  },
  {
   "cell_type": "markdown",
   "metadata": {},
   "source": [
    "(f) We now would like to estimate the standard error of $\\widehat{\\mu_{med}}$. Unfortunately, there is no simple formula for computing the standard error of the median. Instead, estimate the standard error of the median using the bootstrap. Comment on your findings.\n",
    "\n",
    "<b>Sol:</b> The estimate of the standard error of median using bootstrap is <b>0.378564</b>."
   ]
  },
  {
   "cell_type": "code",
   "execution_count": 250,
   "metadata": {},
   "outputs": [
    {
     "name": "stdout",
     "output_type": "stream",
     "text": [
      "Estimate of standard error of sample median of medv (using bootstrap) is: 0.36913325081446763\n"
     ]
    }
   ],
   "source": [
    "B = 1000\n",
    "sample_median = []\n",
    "\n",
    "for i in range(B):\n",
    "    df = boot(boston)\n",
    "    sample_median.append(df['medv'].median())\n",
    "    \n",
    "print(\"Estimate of standard error of sample median of medv (using bootstrap) is: \" +str(np.std(sample_median, ddof=1)))"
   ]
  },
  {
   "cell_type": "markdown",
   "metadata": {},
   "source": [
    "(g) Based on this data set, provide an estimate for the tenth percentile of medv in Boston suburbs. Call this quantity $\\widehat{\\mu_{0.1}}$. (You can use the quantile() function.)\n",
    "\n",
    "<b>Sol:</b> Estimate for the 10th percentile of medv is <b>12.75</b>."
   ]
  },
  {
   "cell_type": "code",
   "execution_count": 252,
   "metadata": {},
   "outputs": [
    {
     "name": "stdout",
     "output_type": "stream",
     "text": [
      "Estimate for the tenth percentile of medv is: 12.75\n"
     ]
    }
   ],
   "source": [
    "print(\"Estimate for the tenth percentile of medv is: \" +str(boston['medv'].quantile(q=0.1)))"
   ]
  },
  {
   "cell_type": "markdown",
   "metadata": {},
   "source": [
    "(h) Use the bootstrap to estimate the standard error of $\\widehat{\\mu_{0.1}}$. Comment on your findings.\n",
    "\n",
    "<b>Sol:</b> The estimate of the standard error of median using bootstrap is <b>0.49295</b>."
   ]
  },
  {
   "cell_type": "code",
   "execution_count": 255,
   "metadata": {},
   "outputs": [
    {
     "name": "stdout",
     "output_type": "stream",
     "text": [
      "Estimate of standard error for the tenth percentile of medv (using bootstrap) is: 0.5069736998428344\n"
     ]
    }
   ],
   "source": [
    "B = 1000\n",
    "sample_percentile = []\n",
    "\n",
    "for i in range(B):\n",
    "    df = boot(boston)\n",
    "    sample_percentile.append(df['medv'].quantile(q=0.1))\n",
    "    \n",
    "print(\"Estimate of standard error for the tenth percentile of medv (using bootstrap) is: \" \n",
    "      +str(np.std(sample_percentile, ddof=1)))"
   ]
  }
 ],
 "metadata": {
  "kernelspec": {
   "display_name": "Python 3",
   "language": "python",
   "name": "python3"
  },
  "language_info": {
   "codemirror_mode": {
    "name": "ipython",
    "version": 3
   },
   "file_extension": ".py",
   "mimetype": "text/x-python",
   "name": "python",
   "nbconvert_exporter": "python",
   "pygments_lexer": "ipython3",
   "version": "3.6.4"
  }
 },
 "nbformat": 4,
 "nbformat_minor": 2
}
